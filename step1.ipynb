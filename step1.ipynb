{
 "cells": [
  {
   "cell_type": "code",
   "execution_count": 2,
   "metadata": {},
   "outputs": [],
   "source": [
    "import multiprocessing as mp"
   ]
  },
  {
   "cell_type": "code",
   "execution_count": 3,
   "metadata": {},
   "outputs": [
    {
     "name": "stdout",
     "output_type": "stream",
     "text": [
      "Number of processors:  4\n"
     ]
    }
   ],
   "source": [
    "print(\"Number of processors: \", mp.cpu_count())"
   ]
  },
  {
   "cell_type": "code",
   "execution_count": 4,
   "metadata": {},
   "outputs": [],
   "source": [
    "import random\n",
    "import numpy as np"
   ]
  },
  {
   "cell_type": "code",
   "execution_count": 4,
   "metadata": {},
   "outputs": [],
   "source": [
    "def rand_num():\n",
    "    num = random.random()\n",
    "    print(num)"
   ]
  },
  {
   "cell_type": "code",
   "execution_count": 5,
   "metadata": {},
   "outputs": [],
   "source": [
    "queue = mp.Queue()"
   ]
  },
  {
   "cell_type": "code",
   "execution_count": 6,
   "metadata": {},
   "outputs": [],
   "source": [
    "processes = [mp.Process(target=rand_num, args=()) for x in range(5)]"
   ]
  },
  {
   "cell_type": "code",
   "execution_count": 7,
   "metadata": {},
   "outputs": [
    {
     "name": "stdout",
     "output_type": "stream",
     "text": [
      "0.25290199056553686\n",
      "0.10581348928098355\n",
      "0.9701377354575037\n",
      "0.4135476995595636\n",
      "0.044663657020299175\n"
     ]
    }
   ],
   "source": [
    "for p in processes:\n",
    "    p.start()"
   ]
  },
  {
   "cell_type": "code",
   "execution_count": 8,
   "metadata": {},
   "outputs": [],
   "source": [
    "for p in processes:\n",
    "    p.join()"
   ]
  },
  {
   "cell_type": "code",
   "execution_count": 5,
   "metadata": {},
   "outputs": [],
   "source": [
    "queue = mp.Queue()"
   ]
  },
  {
   "cell_type": "code",
   "execution_count": 6,
   "metadata": {},
   "outputs": [],
   "source": [
    "def exampleFunction(queue):\n",
    "    queue.put(np.random.random([5,1]))"
   ]
  },
  {
   "cell_type": "code",
   "execution_count": 7,
   "metadata": {},
   "outputs": [],
   "source": [
    "processes = [mp.Process(target=exampleFunction, args=(queue,)) for x in range(10)]"
   ]
  },
  {
   "cell_type": "code",
   "execution_count": 8,
   "metadata": {},
   "outputs": [],
   "source": [
    "for p in processes:\n",
    "    p.start()\n",
    "    \n",
    "for p in processes:\n",
    "    p.join()"
   ]
  },
  {
   "cell_type": "code",
   "execution_count": 9,
   "metadata": {},
   "outputs": [],
   "source": [
    "results = [queue.get() for p in processes]"
   ]
  },
  {
   "cell_type": "code",
   "execution_count": 10,
   "metadata": {},
   "outputs": [],
   "source": [
    "queue = mp.Queue()"
   ]
  },
  {
   "cell_type": "code",
   "execution_count": 11,
   "metadata": {},
   "outputs": [
    {
     "data": {
      "text/plain": [
       "[<Process(Process-1, stopped)>,\n",
       " <Process(Process-2, stopped)>,\n",
       " <Process(Process-3, stopped)>,\n",
       " <Process(Process-4, stopped)>,\n",
       " <Process(Process-5, stopped)>,\n",
       " <Process(Process-6, stopped)>,\n",
       " <Process(Process-7, stopped)>,\n",
       " <Process(Process-8, stopped)>,\n",
       " <Process(Process-9, stopped)>,\n",
       " <Process(Process-10, stopped)>]"
      ]
     },
     "execution_count": 11,
     "metadata": {},
     "output_type": "execute_result"
    }
   ],
   "source": [
    "processes"
   ]
  },
  {
   "cell_type": "code",
   "execution_count": 12,
   "metadata": {},
   "outputs": [
    {
     "data": {
      "text/plain": [
       "[array([[0.38876939],\n",
       "        [0.07807005],\n",
       "        [0.10748683],\n",
       "        [0.02173162],\n",
       "        [0.10513051]]), array([[0.38876939],\n",
       "        [0.07807005],\n",
       "        [0.10748683],\n",
       "        [0.02173162],\n",
       "        [0.10513051]]), array([[0.38876939],\n",
       "        [0.07807005],\n",
       "        [0.10748683],\n",
       "        [0.02173162],\n",
       "        [0.10513051]]), array([[0.38876939],\n",
       "        [0.07807005],\n",
       "        [0.10748683],\n",
       "        [0.02173162],\n",
       "        [0.10513051]]), array([[0.38876939],\n",
       "        [0.07807005],\n",
       "        [0.10748683],\n",
       "        [0.02173162],\n",
       "        [0.10513051]]), array([[0.38876939],\n",
       "        [0.07807005],\n",
       "        [0.10748683],\n",
       "        [0.02173162],\n",
       "        [0.10513051]]), array([[0.38876939],\n",
       "        [0.07807005],\n",
       "        [0.10748683],\n",
       "        [0.02173162],\n",
       "        [0.10513051]]), array([[0.38876939],\n",
       "        [0.07807005],\n",
       "        [0.10748683],\n",
       "        [0.02173162],\n",
       "        [0.10513051]]), array([[0.38876939],\n",
       "        [0.07807005],\n",
       "        [0.10748683],\n",
       "        [0.02173162],\n",
       "        [0.10513051]]), array([[0.38876939],\n",
       "        [0.07807005],\n",
       "        [0.10748683],\n",
       "        [0.02173162],\n",
       "        [0.10513051]])]"
      ]
     },
     "execution_count": 12,
     "metadata": {},
     "output_type": "execute_result"
    }
   ],
   "source": [
    "results"
   ]
  },
  {
   "cell_type": "code",
   "execution_count": null,
   "metadata": {},
   "outputs": [],
   "source": []
  }
 ],
 "metadata": {
  "kernelspec": {
   "display_name": "Python 3",
   "language": "python",
   "name": "python3"
  },
  "language_info": {
   "codemirror_mode": {
    "name": "ipython",
    "version": 3
   },
   "file_extension": ".py",
   "mimetype": "text/x-python",
   "name": "python",
   "nbconvert_exporter": "python",
   "pygments_lexer": "ipython3",
   "version": "3.7.0"
  }
 },
 "nbformat": 4,
 "nbformat_minor": 2
}
